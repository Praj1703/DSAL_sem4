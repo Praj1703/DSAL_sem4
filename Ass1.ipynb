{
 "cells": [
  {
   "cell_type": "code",
   "execution_count": 12,
   "id": "ce7d9766-8d95-4a74-accb-561e050b982a",
   "metadata": {},
   "outputs": [
    {
     "name": "stdin",
     "output_type": "stream",
     "text": [
      "enter hash table size 3\n"
     ]
    },
    {
     "name": "stdout",
     "output_type": "stream",
     "text": [
      "********Menu*********\n",
      "1. Linear Probing\n",
      "2. Quadratic Probing\n",
      "Enter Your Choice \n"
     ]
    },
    {
     "name": "stdin",
     "output_type": "stream",
     "text": [
      "None 1\n"
     ]
    },
    {
     "name": "stdout",
     "output_type": "stream",
     "text": [
      "Menu\n",
      "1. Insert\n",
      "2. Display\n",
      "3. Search\n",
      "4. Exit\n",
      "Enter Your Choice \n"
     ]
    },
    {
     "name": "stdin",
     "output_type": "stream",
     "text": [
      "None 1\n"
     ]
    },
    {
     "name": "stdout",
     "output_type": "stream",
     "text": [
      "********Menu*********\n",
      "1. Linear Probing\n",
      "2. Quadratic Probing\n",
      "Enter Your Choice \n"
     ]
    },
    {
     "ename": "KeyboardInterrupt",
     "evalue": "Interrupted by user",
     "output_type": "error",
     "traceback": [
      "\u001b[0;31m---------------------------------------------------------------------------\u001b[0m",
      "\u001b[0;31mKeyboardInterrupt\u001b[0m                         Traceback (most recent call last)",
      "Cell \u001b[0;32mIn[12], line 148\u001b[0m\n\u001b[1;32m    146\u001b[0m         \u001b[38;5;28;01melse\u001b[39;00m: \n\u001b[1;32m    147\u001b[0m             \u001b[38;5;28;01mbreak\u001b[39;00m\n\u001b[0;32m--> 148\u001b[0m \u001b[43mmain\u001b[49m\u001b[43m(\u001b[49m\u001b[43m)\u001b[49m\n",
      "Cell \u001b[0;32mIn[12], line 110\u001b[0m, in \u001b[0;36mmain\u001b[0;34m()\u001b[0m\n\u001b[1;32m    108\u001b[0m \u001b[38;5;28;01mwhile\u001b[39;00m(\u001b[38;5;28;01mTrue\u001b[39;00m):\n\u001b[1;32m    109\u001b[0m     menu()\n\u001b[0;32m--> 110\u001b[0m     ch1 \u001b[38;5;241m=\u001b[39m \u001b[38;5;28mint\u001b[39m(\u001b[38;5;28;43minput\u001b[39;49m\u001b[43m(\u001b[49m\u001b[38;5;28;43mprint\u001b[39;49m\u001b[43m(\u001b[49m\u001b[38;5;124;43m\"\u001b[39;49m\u001b[38;5;124;43mEnter Your Choice \u001b[39;49m\u001b[38;5;124;43m\"\u001b[39;49m\u001b[43m)\u001b[49m\u001b[43m)\u001b[49m)\n\u001b[1;32m    111\u001b[0m     \u001b[38;5;28;01mif\u001b[39;00m ch1 \u001b[38;5;241m==\u001b[39m \u001b[38;5;241m1\u001b[39m:\n\u001b[1;32m    112\u001b[0m         \u001b[38;5;28;01mwhile\u001b[39;00m(\u001b[38;5;28;01mTrue\u001b[39;00m):\n",
      "File \u001b[0;32m/usr/local/lib/python3.10/dist-packages/ipykernel/kernelbase.py:1282\u001b[0m, in \u001b[0;36mKernel.raw_input\u001b[0;34m(self, prompt)\u001b[0m\n\u001b[1;32m   1280\u001b[0m     msg \u001b[38;5;241m=\u001b[39m \u001b[38;5;124m\"\u001b[39m\u001b[38;5;124mraw_input was called, but this frontend does not support input requests.\u001b[39m\u001b[38;5;124m\"\u001b[39m\n\u001b[1;32m   1281\u001b[0m     \u001b[38;5;28;01mraise\u001b[39;00m StdinNotImplementedError(msg)\n\u001b[0;32m-> 1282\u001b[0m \u001b[38;5;28;01mreturn\u001b[39;00m \u001b[38;5;28;43mself\u001b[39;49m\u001b[38;5;241;43m.\u001b[39;49m\u001b[43m_input_request\u001b[49m\u001b[43m(\u001b[49m\n\u001b[1;32m   1283\u001b[0m \u001b[43m    \u001b[49m\u001b[38;5;28;43mstr\u001b[39;49m\u001b[43m(\u001b[49m\u001b[43mprompt\u001b[49m\u001b[43m)\u001b[49m\u001b[43m,\u001b[49m\n\u001b[1;32m   1284\u001b[0m \u001b[43m    \u001b[49m\u001b[38;5;28;43mself\u001b[39;49m\u001b[38;5;241;43m.\u001b[39;49m\u001b[43m_parent_ident\u001b[49m\u001b[43m[\u001b[49m\u001b[38;5;124;43m\"\u001b[39;49m\u001b[38;5;124;43mshell\u001b[39;49m\u001b[38;5;124;43m\"\u001b[39;49m\u001b[43m]\u001b[49m\u001b[43m,\u001b[49m\n\u001b[1;32m   1285\u001b[0m \u001b[43m    \u001b[49m\u001b[38;5;28;43mself\u001b[39;49m\u001b[38;5;241;43m.\u001b[39;49m\u001b[43mget_parent\u001b[49m\u001b[43m(\u001b[49m\u001b[38;5;124;43m\"\u001b[39;49m\u001b[38;5;124;43mshell\u001b[39;49m\u001b[38;5;124;43m\"\u001b[39;49m\u001b[43m)\u001b[49m\u001b[43m,\u001b[49m\n\u001b[1;32m   1286\u001b[0m \u001b[43m    \u001b[49m\u001b[43mpassword\u001b[49m\u001b[38;5;241;43m=\u001b[39;49m\u001b[38;5;28;43;01mFalse\u001b[39;49;00m\u001b[43m,\u001b[49m\n\u001b[1;32m   1287\u001b[0m \u001b[43m\u001b[49m\u001b[43m)\u001b[49m\n",
      "File \u001b[0;32m/usr/local/lib/python3.10/dist-packages/ipykernel/kernelbase.py:1325\u001b[0m, in \u001b[0;36mKernel._input_request\u001b[0;34m(self, prompt, ident, parent, password)\u001b[0m\n\u001b[1;32m   1322\u001b[0m \u001b[38;5;28;01mexcept\u001b[39;00m \u001b[38;5;167;01mKeyboardInterrupt\u001b[39;00m:\n\u001b[1;32m   1323\u001b[0m     \u001b[38;5;66;03m# re-raise KeyboardInterrupt, to truncate traceback\u001b[39;00m\n\u001b[1;32m   1324\u001b[0m     msg \u001b[38;5;241m=\u001b[39m \u001b[38;5;124m\"\u001b[39m\u001b[38;5;124mInterrupted by user\u001b[39m\u001b[38;5;124m\"\u001b[39m\n\u001b[0;32m-> 1325\u001b[0m     \u001b[38;5;28;01mraise\u001b[39;00m \u001b[38;5;167;01mKeyboardInterrupt\u001b[39;00m(msg) \u001b[38;5;28;01mfrom\u001b[39;00m \u001b[38;5;28;01mNone\u001b[39;00m\n\u001b[1;32m   1326\u001b[0m \u001b[38;5;28;01mexcept\u001b[39;00m \u001b[38;5;167;01mException\u001b[39;00m:\n\u001b[1;32m   1327\u001b[0m     \u001b[38;5;28mself\u001b[39m\u001b[38;5;241m.\u001b[39mlog\u001b[38;5;241m.\u001b[39mwarning(\u001b[38;5;124m\"\u001b[39m\u001b[38;5;124mInvalid Message:\u001b[39m\u001b[38;5;124m\"\u001b[39m, exc_info\u001b[38;5;241m=\u001b[39m\u001b[38;5;28;01mTrue\u001b[39;00m)\n",
      "\u001b[0;31mKeyboardInterrupt\u001b[0m: Interrupted by user"
     ]
    }
   ],
   "source": [
    "def insert(ht,n):\n",
    "    key=int(input(\"enter key\"))\n",
    "    loc=key%n\n",
    "    if (ht[loc]==-1):\n",
    "        ht[loc]=key\n",
    "    else:\n",
    "        cnt=0\n",
    "        while(ht[loc]!=-1):\n",
    "            cnt=cnt+1\n",
    "            loc=(loc+1)%n\n",
    "            if(cnt==n):\n",
    "                print(\"Hash Table is full\")\n",
    "                break;\n",
    "            ht[loc]=key\n",
    "# def search(ht,n):\n",
    "#     src=int(input(\"Enter the element to be search\"))\n",
    "#     loca=src%n\n",
    "#     if (ht[loca]==src):\n",
    "#         print(\"Element found \",ht[loca])\n",
    "#     else:\n",
    "#         count=0\n",
    "#         while(ht[loca]!=-1):\n",
    "#             count=count+1\n",
    "#             loca=(loca+1)%n\n",
    "#             if (ht[loca]==src):\n",
    "#                 print(\"Element Found\",ht[loca])\n",
    "#             if (ht[loca]!=src):\n",
    "#                 for i in range(ht[loca],ht[loca]==-1):\n",
    "#                     if i == src:\n",
    "#                         print(\"Element found\", ht[loca])\n",
    "#                     else: \n",
    "#                         print(\"Element not found \")\n",
    "#             if(count==n):\n",
    "#                 print(\"Element Not Found Hash Table is full\")\n",
    "#                 break;\n",
    "\n",
    "def insert_quadratic_probing(ht, n):\n",
    "    key = int(input(\"Enter key: \"))\n",
    "    loc = key % n\n",
    "    i = 0  \n",
    "    while i < n:\n",
    "        \n",
    "        new_loc = (loc + i * i) % n\n",
    "        \n",
    "        if ht[new_loc] == -1:  \n",
    "            ht[new_loc] = key\n",
    "            print(\"Inserted key\", key, \"at index\", new_loc)\n",
    "            return\n",
    "        else:\n",
    "            print(\"Collision at index\", new_loc, \"trying next index...\")\n",
    "        \n",
    "        i += 1 \n",
    "\n",
    "    print(\"Hash Table is full, could not insert key.\")\n",
    "\n",
    "\n",
    "# insert_quadratic_probing(ht, n)\n",
    "\n",
    "def search(ht, n):\n",
    "    src = int(input(\"Enter the element to search: \"))\n",
    "    loc = src % n\n",
    "    count = 0\n",
    "    while ht[loc] != -1:  \n",
    "        if ht[loc] == src:  \n",
    "            print(\"Element found: \", src,\" at index\", loc)\n",
    "            return\n",
    "        loc = (loc + 1) % n  \n",
    "        count += 1\n",
    "        if count == n:  \n",
    "            print(\"Element not found, hash table is full\")\n",
    "            return\n",
    "    print(\"Element\", src, \"not found\")\n",
    "\n",
    "\n",
    "def search_quadratic_probing(ht, n):\n",
    "    key = int(input(\"Enter key to search: \"))\n",
    "    loc = key % n\n",
    "    i = 0  \n",
    "\n",
    "    while i < n:\n",
    "        \n",
    "        new_loc = (loc + i * i) % n\n",
    "        \n",
    "        if ht[new_loc] == -1:  \n",
    "            print(\"Key\", key, \"not found in the hash table.\")\n",
    "            return\n",
    "        elif ht[new_loc] == key:  \n",
    "            print(\"Key\", key, \"found at index\",new_loc)\n",
    "            return\n",
    "        i += 1\n",
    "    print(\"Key\",key, \"not found in the hash table after checking all slots.\")\n",
    "\n",
    "            \n",
    "def display(ht):\n",
    "    print(\"Hash table is as follows:\")\n",
    "    print(ht)\n",
    "\n",
    "def menu():\n",
    "    print(\"********Menu*********\")\n",
    "    print(\"1. Linear Probing\")\n",
    "    print(\"2. Quadratic Probing\")\n",
    "    # ch1 = input(print(\"Enter Your Choice \"))\n",
    "def main():\n",
    "    n=int(input(\"enter hash table size\"))\n",
    "    ht=[]\n",
    "    for i in range(n):\n",
    "        ht.append(-1)\n",
    "    while(True):\n",
    "        menu()\n",
    "        ch1 = int(input(print(\"Enter Your Choice \")))\n",
    "        if ch1 == 1:\n",
    "            while(True):\n",
    "                \n",
    "                print(\"Menu\")\n",
    "                print(\"1. Insert\")\n",
    "                print(\"2. Display\")\n",
    "         print(\"Menu\")\n",
    "        print(\"1. Insert\")\n",
    "        print(\"2. Display\")\n",
    "        print(\"3. Search\")\n",
    "        print(\"4. Exit\")\n",
    "        ch=int(input(\"Enter Choice \"))\n",
    "        if ch==1:\n",
    "            insert(ht,n)\n",
    "        elif ch==2:\n",
    "            display(ht)\n",
    "        elif ch==3:\n",
    "            search(ht,n)\n",
    "        else:\n",
    "            break"
   ]
  },
  {
   "cell_type": "code",
   "execution_count": null,
   "id": "0be42754-351e-4395-9639-34e945486632",
   "metadata": {},
   "outputs": [
    {
     "name": "stdin",
     "output_type": "stream",
     "text": [
      "Enter hash table size:  3\n"
     ]
    },
    {
     "name": "stdout",
     "output_type": "stream",
     "text": [
      "********Menu*********\n",
      "1. Linear Probing\n",
      "2. Quadratic Probing\n",
      "3. Exit\n"
     ]
    },
    {
     "name": "stdin",
     "output_type": "stream",
     "text": [
      "Enter Your Choice:  2\n"
     ]
    },
    {
     "name": "stdout",
     "output_type": "stream",
     "text": [
      "Menu\n",
      "1. Insert\n",
      "2. Display\n",
      "3. Search\n",
      "4. Exit\n"
     ]
    },
    {
     "name": "stdin",
     "output_type": "stream",
     "text": [
      "Enter Choice:  1\n",
      "Enter key:  65\n"
     ]
    },
    {
     "name": "stdout",
     "output_type": "stream",
     "text": [
      "Inserted key 65 at index 2\n",
      "Menu\n",
      "1. Insert\n",
      "2. Display\n",
      "3. Search\n",
      "4. Exit\n"
     ]
    },
    {
     "name": "stdin",
     "output_type": "stream",
     "text": [
      "Enter Choice:  1\n",
      "Enter key:  65\n"
     ]
    },
    {
     "name": "stdout",
     "output_type": "stream",
     "text": [
      "Inserted key 65 at index 0\n",
      "Menu\n",
      "1. Insert\n",
      "2. Display\n",
      "3. Search\n",
      "4. Exit\n"
     ]
    },
    {
     "name": "stdin",
     "output_type": "stream",
     "text": [
      "Enter Choice:  1\n",
      "Enter key:  35\n"
     ]
    },
    {
     "name": "stdout",
     "output_type": "stream",
     "text": [
      "Hash Table is full, could not insert key.\n",
      "Menu\n",
      "1. Insert\n",
      "2. Display\n",
      "3. Search\n",
      "4. Exit\n"
     ]
    },
    {
     "name": "stdin",
     "output_type": "stream",
     "text": [
      "Enter Choice:  2\n"
     ]
    },
    {
     "name": "stdout",
     "output_type": "stream",
     "text": [
      "Hash table is as follows:\n",
      "[65, -1, 65]\n",
      "Menu\n",
      "1. Insert\n",
      "2. Display\n",
      "3. Search\n",
      "4. Exit\n"
     ]
    }
   ],
   "source": [
    "def insert(ht, n):\n",
    "    key = int(input(\"Enter key: \"))\n",
    "    loc = key % n\n",
    "    if ht[loc] == -1:\n",
    "        ht[loc] = key\n",
    "    else:\n",
    "        cnt = 0\n",
    "        while ht[loc] != -1:\n",
    "            cnt += 1\n",
    "            loc = (loc + 1) % n\n",
    "            if cnt == n:\n",
    "                print(\"Hash Table is full\")\n",
    "                return\n",
    "        ht[loc] = key  # Insert the key after finding an empty slot\n",
    "        print(\"Inserted key\", key, \"at index\", loc)\n",
    "\n",
    "def search(ht, n):\n",
    "    src = int(input(\"Enter the element to search: \"))\n",
    "    loc = src % n\n",
    "    count = 0\n",
    "    while count < n:\n",
    "        if ht[loc] == -1:  \n",
    "            print(\"Element\", src, \"not found\")\n",
    "            return\n",
    "        if ht[loc] == src:  \n",
    "            print(\"Element found:\", src, \"at index\", loc)\n",
    "            return\n",
    "        loc = (loc + 1) % n  \n",
    "        count += 1\n",
    "    print(\"Element\", src, \"not found\")\n",
    "\n",
    "def insert_quadratic_probing(ht, n):\n",
    "    key = int(input(\"Enter key: \"))\n",
    "    loc = key % n\n",
    "    i = 0  \n",
    "    while i < n:\n",
    "        new_loc = (loc + i * i) % n\n",
    "        if ht[new_loc] == -1:  \n",
    "            ht[new_loc] = key\n",
    "            print(\"Inserted key\", key, \"at index\", new_loc)\n",
    "            return\n",
    "        else:\n",
    "            print(\"Collision at index\", new_loc, \"trying next index...\")\n",
    "        i += 1 \n",
    "    print(\"Hash Table is full, could not insert key.\")\n",
    "\n",
    "# def search_quadratic_probing(ht, n):\n",
    "#     key = int(input(\"Enter key to search: \"))\n",
    "#     loc = key % n\n",
    "#     i = 0  \n",
    "#     while i < n:\n",
    "#         new_loc = (loc + i * i) % n\n",
    "#         if ht[new_loc] == -1:  \n",
    "#             print(\"Key\", key, \"not found in the hash table.\")\n",
    "#             return\n",
    "#         elif ht[new_loc] == key:  \n",
    "#             print(\"Key\", key, \"found at index\", new_loc)\n",
    "#             return\n",
    "#         i += 1\n",
    "#     print(\"Key\", key, \"not found in the hash table after checking all slots.\")\n",
    "\n",
    "def insert_quadratic_probing(ht, n):\n",
    "    key = int(input(\"Enter key: \"))\n",
    "    loc = key % n\n",
    "    i = 0  \n",
    "    collision_count = 0  # Initialize a collision counter\n",
    "\n",
    "    while i < n:\n",
    "        new_loc = (loc + i * i) % n\n",
    "        if ht[new_loc] == -1:  \n",
    "            ht[new_loc] = key\n",
    "            print(\"Inserted key\", key, \"at index\", new_loc)\n",
    "            return\n",
    "        else:\n",
    "            collision_count += 1  # Increment collision count\n",
    "            i += 1  # Increment the attempt counter\n",
    "\n",
    "    # If we exit the loop, it means the table is full\n",
    "    print(\"Hash Table is full, could not insert key.\")\n",
    "\n",
    "def display(ht):\n",
    "    print(\"Hash table is as follows:\")\n",
    "    print(ht)\n",
    "\n",
    "def menu():\n",
    "    print(\"********Menu*********\")\n",
    "    print(\"1. Linear Probing\")\n",
    "    print(\"2. Quadratic Probing\")\n",
    "    print(\"3. Exit\")\n",
    "    return int(input(\"Enter Your Choice: \"))  \n",
    "\n",
    "def main():\n",
    "    n = int(input(\"Enter hash table size: \"))\n",
    "    ht = [-1] * n  #-1 indicating empty slots\n",
    "    while True: #While loop for the menu of linear and Quadratic probing as a option\n",
    "        ch1 = menu() \n",
    "        if ch1 == 1:\n",
    "            while True: # The first while loop for Linear Probing\n",
    "                print(\"Menu\")\n",
    "                print(\"1. Insert\")\n",
    "                print(\"2. Display\")\n",
    "                print(\"3. Search\")\n",
    "                print(\"4. Exit\")\n",
    "                ch = int(input(\"Enter Choice: \"))  \n",
    "                if ch == 1:\n",
    "                    insert(ht, n)\n",
    "                elif ch == 2:\n",
    "                    display(ht)\n",
    "                elif ch == 3:\n",
    "                    search(ht, n)\n",
    "                elif ch == 4:\n",
    "                    break  # Exiting the first while loop \n",
    "                else:\n",
    "                    print(\"Invalid choice, please try again.\")\n",
    "        elif ch1 == 2:\n",
    "            while True: # The second while loop for the quadratic probing ....\n",
    "                print(\"Menu\")\n",
    "                print(\"1. Insert\")\n",
    "                print(\"2. Display\")\n",
    "                print(\"3. Search\")\n",
    "                print(\"4. Exit\")\n",
    "                ch = int(input(\"Enter Choice: \"))  # Corrected line\n",
    "                if ch == 1:\n",
    "                    insert_quadratic_probing(ht, n)\n",
    "                elif ch == 2:\n",
    "                    display(ht)\n",
    "                elif ch == 3:\n",
    "                    search_quadratic_probing(ht, n)\n",
    "                elif ch == 4:\n",
    "                    break  # Exiting the loop of quadratic probing \n",
    "                else:\n",
    "                    print(\"Invalid choice, please try again.\")\n",
    "        elif ch == 3:\n",
    "            break\n",
    "        else:\n",
    "            print(\"Invalid choice, please try again.\")\n",
    "\n",
    "main()\n",
    "\n"
   ]
  },
  {
   "cell_type": "code",
   "execution_count": null,
   "id": "44f139ad-86e3-4769-bc82-606512f75c1f",
   "metadata": {},
   "outputs": [],
   "source": []
  },
  {
   "cell_type": "code",
   "execution_count": null,
   "id": "3a89ce4a-9b92-4513-b112-e7ecd96d9a80",
   "metadata": {},
   "outputs": [],
   "source": []
  }
 ],
 "metadata": {
  "kernelspec": {
   "display_name": "Python 3 (ipykernel)",
   "language": "python",
   "name": "python3"
  },
  "language_info": {
   "codemirror_mode": {
    "name": "ipython",
    "version": 3
   },
   "file_extension": ".py",
   "mimetype": "text/x-python",
   "name": "python",
   "nbconvert_exporter": "python",
   "pygments_lexer": "ipython3",
   "version": "3.10.12"
  }
 },
 "nbformat": 4,
 "nbformat_minor": 5
}
