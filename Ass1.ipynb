{
 "cells": [
  {
   "cell_type": "code",
   "execution_count": 3,
   "id": "ce7d9766-8d95-4a74-accb-561e050b982a",
   "metadata": {},
   "outputs": [
    {
     "name": "stdin",
     "output_type": "stream",
     "text": [
      "enter hash table size 5\n"
     ]
    },
    {
     "name": "stdout",
     "output_type": "stream",
     "text": [
      "Menu\n",
      "1. Insert\n",
      "2. Display\n",
      "3. Search\n",
      "4. Exit\n"
     ]
    },
    {
     "name": "stdin",
     "output_type": "stream",
     "text": [
      "Enter Choice  1\n",
      "enter key 10\n"
     ]
    },
    {
     "name": "stdout",
     "output_type": "stream",
     "text": [
      "Menu\n",
      "1. Insert\n",
      "2. Display\n",
      "3. Search\n",
      "4. Exit\n"
     ]
    },
    {
     "name": "stdin",
     "output_type": "stream",
     "text": [
      "Enter Choice  1\n",
      "enter key 20\n"
     ]
    },
    {
     "name": "stdout",
     "output_type": "stream",
     "text": [
      "Menu\n",
      "1. Insert\n",
      "2. Display\n",
      "3. Search\n",
      "4. Exit\n"
     ]
    },
    {
     "name": "stdin",
     "output_type": "stream",
     "text": [
      "Enter Choice  2\n"
     ]
    },
    {
     "name": "stdout",
     "output_type": "stream",
     "text": [
      "Hash table is as follows:\n",
      "[10, 20, -1, -1, -1]\n",
      "Menu\n",
      "1. Insert\n",
      "2. Display\n",
      "3. Search\n",
      "4. Exit\n"
     ]
    },
    {
     "name": "stdin",
     "output_type": "stream",
     "text": [
      "Enter Choice  3\n",
      "Enter the element to search:  30\n"
     ]
    },
    {
     "name": "stdout",
     "output_type": "stream",
     "text": [
      "Element 30 not found\n",
      "Menu\n",
      "1. Insert\n",
      "2. Display\n",
      "3. Search\n",
      "4. Exit\n"
     ]
    },
    {
     "name": "stdin",
     "output_type": "stream",
     "text": [
      "Enter Choice  3\n",
      "Enter the element to search:  20\n"
     ]
    },
    {
     "name": "stdout",
     "output_type": "stream",
     "text": [
      "Element found: 20 at index 1\n",
      "Menu\n",
      "1. Insert\n",
      "2. Display\n",
      "3. Search\n",
      "4. Exit\n"
     ]
    },
    {
     "name": "stdin",
     "output_type": "stream",
     "text": [
      "Enter Choice  56\n"
     ]
    }
   ],
   "source": [
    "def insert(ht,n):\n",
    "    key=int(input(\"enter key\"))\n",
    "    loc=key%n\n",
    "    if (ht[loc]==-1):\n",
    "        ht[loc]=key\n",
    "    else:\n",
    "        cnt=0\n",
    "        while(ht[loc]!=-1):\n",
    "            cnt=cnt+1\n",
    "            loc=(loc+1)%n\n",
    "            if(cnt==n):\n",
    "                print(\"Hash Table is full\")\n",
    "                break;\n",
    "            \n",
    "        ht[loc]=key\n",
    "# def search(ht,n):\n",
    "#     src=int(input(\"Enter the element to be search\"))\n",
    "#     loca=src%n\n",
    "#     if (ht[loca]==src):\n",
    "#         print(\"Element found \",ht[loca])\n",
    "#     else:\n",
    "#         count=0\n",
    "#         while(ht[loca]!=-1):\n",
    "#             count=count+1\n",
    "#             loca=(loca+1)%n\n",
    "#             if (ht[loca]==src):\n",
    "#                 print(\"Element Found\",ht[loca])\n",
    "#             if (ht[loca]!=src):\n",
    "#                 for i in range(ht[loca],ht[loca]==-1):\n",
    "#                     if i == src:\n",
    "#                         print(\"Element found\", ht[loca])\n",
    "#                     else: \n",
    "#                         print(\"Element not found \")\n",
    "#             if(count==n):\n",
    "#                 print(\"Element Not Found Hash Table is full\")\n",
    "#                 break;\n",
    "\n",
    "def search(ht, n):\n",
    "    src = int(input(\"Enter the element to search: \"))\n",
    "    loc = src % n\n",
    "    count = 0\n",
    "    while ht[loc] != -1:  \n",
    "        if ht[loc] == src:  \n",
    "            print(f\"Element found: {src} at index {loc}\")\n",
    "            return\n",
    "        loc = (loc + 1) % n  \n",
    "        count += 1\n",
    "        if count == n:  \n",
    "            print(\"Element not found, hash table is full\")\n",
    "            return\n",
    "    print(f\"Element {src} not found\")\n",
    "            \n",
    "def display(ht):\n",
    "    print(\"Hash table is as follows:\")\n",
    "    print(ht)\n",
    "def main():\n",
    "    n=int(input(\"enter hash table size\"))\n",
    "    ht=[]\n",
    "    for i in range(n):\n",
    "        ht.append(-1)\n",
    "    while(True):\n",
    "        print(\"Menu\")\n",
    "        print(\"1. Insert\")\n",
    "        print(\"2. Display\")\n",
    "        print(\"3. Search\")\n",
    "        print(\"4. Exit\")\n",
    "        ch=int(input(\"Enter Choice \"))\n",
    "        if ch==1:\n",
    "            insert(ht,n)\n",
    "        elif ch==2:\n",
    "            display(ht)\n",
    "        elif ch==3:\n",
    "            search(ht,n)\n",
    "        else:\n",
    "            break\n",
    "    \n",
    "main()"
   ]
  },
  {
   "cell_type": "code",
   "execution_count": null,
   "id": "0be42754-351e-4395-9639-34e945486632",
   "metadata": {},
   "outputs": [],
   "source": []
  }
 ],
 "metadata": {
  "kernelspec": {
   "display_name": "Python 3 (ipykernel)",
   "language": "python",
   "name": "python3"
  },
  "language_info": {
   "codemirror_mode": {
    "name": "ipython",
    "version": 3
   },
   "file_extension": ".py",
   "mimetype": "text/x-python",
   "name": "python",
   "nbconvert_exporter": "python",
   "pygments_lexer": "ipython3",
   "version": "3.10.12"
  }
 },
 "nbformat": 4,
 "nbformat_minor": 5
}
