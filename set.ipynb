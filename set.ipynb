{
 "cells": [
  {
   "cell_type": "code",
   "execution_count": 5,
   "id": "44d3e124-e158-417a-b1ef-47d23516dc8d",
   "metadata": {},
   "outputs": [
    {
     "name": "stdout",
     "output_type": "stream",
     "text": [
      "Set1 = \n",
      "Adding Element 7\n",
      "{1, 2, 3, 4, 5, 6, 7}\n",
      "removing element 4 \n",
      "{1, 2, 3, 5, 6, 7}\n",
      "Result after checking whether 7 in set1 or not  True\n",
      "Checking the lenght of the set1 :  6\n",
      "Set2 = \n",
      "{6, 11, 12, 13, 14, 15}\n",
      "Union of the two sets \n",
      "{1, 2, 3, 5, 6, 7, 11, 12, 13, 14, 15}\n",
      "Insertion of two sets\n",
      "{6}\n",
      "Diffrence of two sets :\n",
      "{1, 2, 3, 5, 7}\n",
      "Sym diff of two sets :\n",
      "{1, 2, 3, 5, 7, 11, 12, 13, 14, 15}\n",
      "Issubset ? \n",
      "False\n",
      "(in) and ( not in ) in the sets \n",
      "True\n",
      "False\n"
     ]
    }
   ],
   "source": [
    "print(\"Set1 = \")\n",
    "set1 = {1,2,3,4,5,6}\n",
    "\n",
    "print(\"Adding Element 7\")\n",
    "set1.add(7)\n",
    "print(set1)\n",
    "print(\"removing element 4 \")\n",
    "set1.remove(4)\n",
    "print (set1)\n",
    "\n",
    "#chk = input(print(\"Enter the Element to be checked\"))\n",
    "chk = 7 \n",
    "\n",
    "isContain = chk in set1\n",
    "print(\"Result after checking whether 7 in set1 or not \", isContain)\n",
    "\n",
    "print(\"Checking the lenght of the set1 : \", len(set1))\n",
    "\n",
    "print(\"Set2 = \")\n",
    "set2 = {11,12,13,14,15,6}\n",
    "print(set2)\n",
    "\n",
    "\n",
    "print(\"Union of the two sets \")\n",
    "\n",
    "set3 = set1 | set2\n",
    "print(set3)\n",
    "# for x in set3:\n",
    "#     print(x)\n",
    "\n",
    "print(\"Insertion of two sets\")\n",
    "set_intersection = set1 & set2\n",
    "print(set_intersection)\n",
    "print(\"Diffrence of two sets :\")\n",
    "set_diff = set1 - set2\n",
    "print(set_diff)\n",
    "\n",
    "print(\"Sym diff of two sets :\")\n",
    "set_sym_diff = set1^set2 # symmetric_difference()\n",
    "print(set_sym_diff)\n",
    "\n",
    "print(\"Issubset ? \")\n",
    "set_issubset = set1 <= set2 #set1.issubset(set2)\n",
    "print(set_issubset)\n",
    "\n",
    "print(\"(in) and ( not in ) in the sets \")\n",
    "print(7 in set3) #{1, 2, 3, 4, 5, 6, 7, 11, 12, 13, 14, 15}\n",
    "print(6 not in set3) #{1, 2, 3, 4, 5, 6, 7, 11, 12, 13, 14, 15}\n"
   ]
  },
  {
   "cell_type": "code",
   "execution_count": null,
   "id": "c14620ee-4373-442b-b792-d9cf65264f4f",
   "metadata": {},
   "outputs": [],
   "source": []
  }
 ],
 "metadata": {
  "kernelspec": {
   "display_name": "Python 3 (ipykernel)",
   "language": "python",
   "name": "python3"
  },
  "language_info": {
   "codemirror_mode": {
    "name": "ipython",
    "version": 3
   },
   "file_extension": ".py",
   "mimetype": "text/x-python",
   "name": "python",
   "nbconvert_exporter": "python",
   "pygments_lexer": "ipython3",
   "version": "3.10.12"
  }
 },
 "nbformat": 4,
 "nbformat_minor": 5
}
